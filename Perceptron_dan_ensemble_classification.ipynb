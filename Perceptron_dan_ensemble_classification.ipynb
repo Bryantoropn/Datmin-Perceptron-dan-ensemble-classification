{
  "nbformat": 4,
  "nbformat_minor": 0,
  "metadata": {
    "colab": {
      "name": "Perceptron dan ensemble classification.ipynb",
      "provenance": [],
      "collapsed_sections": [],
      "authorship_tag": "ABX9TyNx2H/SLm+dKi6ytmWDyy2z",
      "include_colab_link": true
    },
    "kernelspec": {
      "name": "python3",
      "display_name": "Python 3"
    },
    "language_info": {
      "name": "python"
    }
  },
  "cells": [
    {
      "cell_type": "markdown",
      "metadata": {
        "id": "view-in-github",
        "colab_type": "text"
      },
      "source": [
        "<a href=\"https://colab.research.google.com/github/Bryantoropn/Datmin-Perceptron-dan-ensemble-classification/blob/main/Perceptron_dan_ensemble_classification.ipynb\" target=\"_parent\"><img src=\"https://colab.research.google.com/assets/colab-badge.svg\" alt=\"Open In Colab\"/></a>"
      ]
    },
    {
      "cell_type": "code",
      "metadata": {
        "id": "PawGtL_HaBIY"
      },
      "source": [
        "from sklearn import datasets\n",
        "from sklearn.preprocessing import StandardScaler\n",
        "from sklearn.linear_model import Perceptron\n",
        "from sklearn.model_selection import train_test_split\n",
        "from sklearn.metrics import accuracy_score\n",
        "import numpy as np\n",
        "from sklearn.ensemble import BaggingClassifier\n",
        "from sklearn.datasets import load_wine\n",
        "from sklearn.datasets import load_breast_cancer"
      ],
      "execution_count": null,
      "outputs": []
    },
    {
      "cell_type": "markdown",
      "metadata": {
        "id": "Y30LlDs8p2Xm"
      },
      "source": [
        "WINE"
      ]
    },
    {
      "cell_type": "code",
      "metadata": {
        "id": "9o-kmijZpzsC"
      },
      "source": [
        "iris = datasets.load_wine()\n",
        "X = iris.data\n",
        "y = iris.target"
      ],
      "execution_count": null,
      "outputs": []
    },
    {
      "cell_type": "markdown",
      "metadata": {
        "id": "6xi3h80np__x"
      },
      "source": [
        "Perbandingan 0.2"
      ]
    },
    {
      "cell_type": "code",
      "metadata": {
        "id": "SzdzCrXGp_Hj"
      },
      "source": [
        "X_train, X_test, y_train, y_test = train_test_split(X, y, test_size=0.2)"
      ],
      "execution_count": null,
      "outputs": []
    },
    {
      "cell_type": "code",
      "metadata": {
        "id": "AmLddLSDqJWT"
      },
      "source": [
        "sc = StandardScaler()\n",
        "sc.fit(X_train)\n",
        "X_train_std = sc.transform(X_train)\n",
        "X_test_std = sc.transform(X_test)"
      ],
      "execution_count": null,
      "outputs": []
    },
    {
      "cell_type": "code",
      "metadata": {
        "colab": {
          "base_uri": "https://localhost:8080/"
        },
        "id": "g_U8Kw-CqJdV",
        "outputId": "14d34b29-b4e4-4345-da6d-3866e3f9faa4"
      },
      "source": [
        "ppn = Perceptron(eta0=0.1, random_state=0)\n",
        "ppn.fit(X_train_std, y_train)\n",
        "y_pred = ppn.predict(X_test_std)\n",
        "print('Accuracy: %.2f' % accuracy_score(y_test, y_pred))"
      ],
      "execution_count": null,
      "outputs": [
        {
          "output_type": "stream",
          "name": "stdout",
          "text": [
            "Accuracy: 0.97\n"
          ]
        }
      ]
    },
    {
      "cell_type": "markdown",
      "metadata": {
        "id": "AOF1ahmlqbkI"
      },
      "source": [
        "Perbandingan 0.3"
      ]
    },
    {
      "cell_type": "code",
      "metadata": {
        "id": "5xagwsxTqbkJ"
      },
      "source": [
        "X_train, X_test, y_train, y_test = train_test_split(X, y, test_size=0.3)"
      ],
      "execution_count": null,
      "outputs": []
    },
    {
      "cell_type": "code",
      "metadata": {
        "id": "HWiknmJAqbkJ"
      },
      "source": [
        "sc = StandardScaler()\n",
        "sc.fit(X_train)\n",
        "X_train_std = sc.transform(X_train)\n",
        "X_test_std = sc.transform(X_test)"
      ],
      "execution_count": null,
      "outputs": []
    },
    {
      "cell_type": "code",
      "metadata": {
        "colab": {
          "base_uri": "https://localhost:8080/"
        },
        "id": "-B_B63ErqbkJ",
        "outputId": "1c4137ce-733a-43ec-8556-53bcde5aedbf"
      },
      "source": [
        "ppn = Perceptron(eta0=0.1, random_state=0)\n",
        "ppn.fit(X_train_std, y_train)\n",
        "y_pred = ppn.predict(X_test_std)\n",
        "print('Accuracy: %.2f' % accuracy_score(y_test, y_pred))"
      ],
      "execution_count": null,
      "outputs": [
        {
          "output_type": "stream",
          "name": "stdout",
          "text": [
            "Accuracy: 0.98\n"
          ]
        }
      ]
    },
    {
      "cell_type": "markdown",
      "metadata": {
        "id": "xBzpsSeeqkHl"
      },
      "source": [
        "Perbandingan 0.4"
      ]
    },
    {
      "cell_type": "code",
      "metadata": {
        "id": "ERMyadl3qkHs"
      },
      "source": [
        "X_train, X_test, y_train, y_test = train_test_split(X, y, test_size=0.4)"
      ],
      "execution_count": null,
      "outputs": []
    },
    {
      "cell_type": "code",
      "metadata": {
        "id": "GMPfTugpqkHt"
      },
      "source": [
        "sc = StandardScaler()\n",
        "sc.fit(X_train)\n",
        "X_train_std = sc.transform(X_train)\n",
        "X_test_std = sc.transform(X_test)"
      ],
      "execution_count": null,
      "outputs": []
    },
    {
      "cell_type": "code",
      "metadata": {
        "colab": {
          "base_uri": "https://localhost:8080/"
        },
        "id": "AZUiM4QXqkHt",
        "outputId": "eb463de0-e60f-4dd1-ae97-ff6108fc13bd"
      },
      "source": [
        "ppn = Perceptron(eta0=0.1, random_state=0)\n",
        "ppn.fit(X_train_std, y_train)\n",
        "y_pred = ppn.predict(X_test_std)\n",
        "print('Accuracy: %.2f' % accuracy_score(y_test, y_pred))"
      ],
      "execution_count": null,
      "outputs": [
        {
          "output_type": "stream",
          "name": "stdout",
          "text": [
            "Accuracy: 0.96\n"
          ]
        }
      ]
    },
    {
      "cell_type": "markdown",
      "metadata": {
        "id": "ZluBdMgcquFG"
      },
      "source": [
        "Breast Cancer"
      ]
    },
    {
      "cell_type": "code",
      "metadata": {
        "id": "ApDkevdCquFH"
      },
      "source": [
        "iris = datasets.load_breast_cancer()\n",
        "X = iris.data\n",
        "y = iris.target"
      ],
      "execution_count": null,
      "outputs": []
    },
    {
      "cell_type": "markdown",
      "metadata": {
        "id": "rOCGtkv9quFH"
      },
      "source": [
        "Perbandingan 0.2"
      ]
    },
    {
      "cell_type": "code",
      "metadata": {
        "id": "IwCrGp2CquFH"
      },
      "source": [
        "X_train, X_test, y_train, y_test = train_test_split(X, y, test_size=0.2)"
      ],
      "execution_count": null,
      "outputs": []
    },
    {
      "cell_type": "code",
      "metadata": {
        "id": "ZmJT5mnKquFI"
      },
      "source": [
        "sc = StandardScaler()\n",
        "sc.fit(X_train)\n",
        "X_train_std = sc.transform(X_train)\n",
        "X_test_std = sc.transform(X_test)"
      ],
      "execution_count": null,
      "outputs": []
    },
    {
      "cell_type": "code",
      "metadata": {
        "colab": {
          "base_uri": "https://localhost:8080/"
        },
        "id": "jhz0bDO2quFI",
        "outputId": "80a1f73b-6256-4d6f-fa77-a662f49db721"
      },
      "source": [
        "ppn = Perceptron(eta0=0.1, random_state=0)\n",
        "ppn.fit(X_train_std, y_train)\n",
        "y_pred = ppn.predict(X_test_std)\n",
        "print('Accuracy: %.2f' % accuracy_score(y_test, y_pred))"
      ],
      "execution_count": null,
      "outputs": [
        {
          "output_type": "stream",
          "name": "stdout",
          "text": [
            "Accuracy: 0.99\n"
          ]
        }
      ]
    },
    {
      "cell_type": "markdown",
      "metadata": {
        "id": "5rVCxpjIquFI"
      },
      "source": [
        "Perbandingan 0.3"
      ]
    },
    {
      "cell_type": "code",
      "metadata": {
        "id": "mDusoaxlquFJ"
      },
      "source": [
        "X_train, X_test, y_train, y_test = train_test_split(X, y, test_size=0.3)"
      ],
      "execution_count": null,
      "outputs": []
    },
    {
      "cell_type": "code",
      "metadata": {
        "id": "LgyoVK9WquFJ"
      },
      "source": [
        "sc = StandardScaler()\n",
        "sc.fit(X_train)\n",
        "X_train_std = sc.transform(X_train)\n",
        "X_test_std = sc.transform(X_test)"
      ],
      "execution_count": null,
      "outputs": []
    },
    {
      "cell_type": "code",
      "metadata": {
        "colab": {
          "base_uri": "https://localhost:8080/"
        },
        "id": "gtZVuLfOquFJ",
        "outputId": "1f48cb98-4afd-4614-ccaf-8ca3f324fa1f"
      },
      "source": [
        "ppn = Perceptron(eta0=0.1, random_state=0)\n",
        "ppn.fit(X_train_std, y_train)\n",
        "y_pred = ppn.predict(X_test_std)\n",
        "print('Accuracy: %.2f' % accuracy_score(y_test, y_pred))"
      ],
      "execution_count": null,
      "outputs": [
        {
          "output_type": "stream",
          "name": "stdout",
          "text": [
            "Accuracy: 0.98\n"
          ]
        }
      ]
    },
    {
      "cell_type": "markdown",
      "metadata": {
        "id": "7utmzuFfquFJ"
      },
      "source": [
        "Perbandingan 0.4"
      ]
    },
    {
      "cell_type": "code",
      "metadata": {
        "id": "TXJ6UcdDquFJ"
      },
      "source": [
        "X_train, X_test, y_train, y_test = train_test_split(X, y, test_size=0.4)"
      ],
      "execution_count": null,
      "outputs": []
    },
    {
      "cell_type": "code",
      "metadata": {
        "id": "KW2dmA8CquFJ"
      },
      "source": [
        "sc = StandardScaler()\n",
        "sc.fit(X_train)\n",
        "X_train_std = sc.transform(X_train)\n",
        "X_test_std = sc.transform(X_test)"
      ],
      "execution_count": null,
      "outputs": []
    },
    {
      "cell_type": "code",
      "metadata": {
        "colab": {
          "base_uri": "https://localhost:8080/"
        },
        "id": "wteYVhvzquFJ",
        "outputId": "516cadbe-f396-44bc-b664-376f0c427021"
      },
      "source": [
        "ppn = Perceptron(eta0=0.1, random_state=0)\n",
        "ppn.fit(X_train_std, y_train)\n",
        "y_pred = ppn.predict(X_test_std)\n",
        "print('Accuracy: %.2f' % accuracy_score(y_test, y_pred))"
      ],
      "execution_count": null,
      "outputs": [
        {
          "output_type": "stream",
          "name": "stdout",
          "text": [
            "Accuracy: 0.96\n"
          ]
        }
      ]
    },
    {
      "cell_type": "markdown",
      "metadata": {
        "id": "M68FBWbgrJlB"
      },
      "source": [
        "Bagging dengan base classifier\n",
        "\n",
        "WINE"
      ]
    },
    {
      "cell_type": "code",
      "metadata": {
        "id": "Mzbu5mt1rY4M"
      },
      "source": [
        "iris = datasets.load_wine()\n",
        "X = iris.data\n",
        "y = iris.target"
      ],
      "execution_count": null,
      "outputs": []
    },
    {
      "cell_type": "markdown",
      "metadata": {
        "id": "Tr3bx9AwrY4i"
      },
      "source": [
        "Estmators = 100"
      ]
    },
    {
      "cell_type": "code",
      "metadata": {
        "id": "7Ntc4-aNrY4i"
      },
      "source": [
        "X_train, X_test, y_train, y_test = train_test_split(X, y, test_size=0.3)"
      ],
      "execution_count": null,
      "outputs": []
    },
    {
      "cell_type": "code",
      "metadata": {
        "id": "_NDe0PBXrY4j"
      },
      "source": [
        "sc = StandardScaler()\n",
        "sc.fit(X_train)\n",
        "X_train_std = sc.transform(X_train)\n",
        "X_test_std = sc.transform(X_test)"
      ],
      "execution_count": null,
      "outputs": []
    },
    {
      "cell_type": "code",
      "metadata": {
        "colab": {
          "base_uri": "https://localhost:8080/"
        },
        "id": "hKMq-JhtrkES",
        "outputId": "49a85e09-ac4b-4425-df3d-453b4ffbed75"
      },
      "source": [
        "ppn2 = Perceptron(eta0=0.1, random_state=0)\n",
        "bc = BaggingClassifier(base_estimator=ppn2, n_estimators=100, n_jobs=-1) \n",
        "bc.fit(X_train_std, y_train)\n",
        "y_pred = bc.predict(X_test_std)\n",
        "accuracy = accuracy_score(y_test, y_pred) \n",
        "print('Accuracy of Bagging Classifier: {:.3f}'.format(accuracy))"
      ],
      "execution_count": null,
      "outputs": [
        {
          "output_type": "stream",
          "name": "stdout",
          "text": [
            "Accuracy of Bagging Classifier: 1.000\n"
          ]
        }
      ]
    },
    {
      "cell_type": "markdown",
      "metadata": {
        "id": "affTAwI6rnkP"
      },
      "source": [
        "Estmators = 200"
      ]
    },
    {
      "cell_type": "code",
      "metadata": {
        "id": "Wj3pvFHornkQ"
      },
      "source": [
        "X_train, X_test, y_train, y_test = train_test_split(X, y, test_size=0.3)"
      ],
      "execution_count": null,
      "outputs": []
    },
    {
      "cell_type": "code",
      "metadata": {
        "id": "motEAP4ZrnkR"
      },
      "source": [
        "sc = StandardScaler()\n",
        "sc.fit(X_train)\n",
        "X_train_std = sc.transform(X_train)\n",
        "X_test_std = sc.transform(X_test)"
      ],
      "execution_count": null,
      "outputs": []
    },
    {
      "cell_type": "code",
      "metadata": {
        "colab": {
          "base_uri": "https://localhost:8080/"
        },
        "id": "QEkzI03lrnkR",
        "outputId": "f056966b-995c-480c-c838-03765dd4c0f1"
      },
      "source": [
        "ppn2 = Perceptron(eta0=0.1, random_state=0)\n",
        "bc = BaggingClassifier(base_estimator=ppn2, n_estimators=200, n_jobs=-1) \n",
        "bc.fit(X_train_std, y_train)\n",
        "y_pred = bc.predict(X_test_std)\n",
        "accuracy = accuracy_score(y_test, y_pred) \n",
        "print('Accuracy of Bagging Classifier: {:.3f}'.format(accuracy)) "
      ],
      "execution_count": null,
      "outputs": [
        {
          "output_type": "stream",
          "name": "stdout",
          "text": [
            "Accuracy of Bagging Classifier: 0.981\n"
          ]
        }
      ]
    },
    {
      "cell_type": "markdown",
      "metadata": {
        "id": "pX5o4QKlrv_7"
      },
      "source": [
        "Estmators = 300"
      ]
    },
    {
      "cell_type": "code",
      "metadata": {
        "id": "oknbA4CbrwAA"
      },
      "source": [
        "X_train, X_test, y_train, y_test = train_test_split(X, y, test_size=0.3)"
      ],
      "execution_count": null,
      "outputs": []
    },
    {
      "cell_type": "code",
      "metadata": {
        "id": "nu7TFAburwAC"
      },
      "source": [
        "sc = StandardScaler()\n",
        "sc.fit(X_train)\n",
        "X_train_std = sc.transform(X_train)\n",
        "X_test_std = sc.transform(X_test)"
      ],
      "execution_count": null,
      "outputs": []
    },
    {
      "cell_type": "code",
      "metadata": {
        "colab": {
          "base_uri": "https://localhost:8080/"
        },
        "id": "PZk8WoXOrwAD",
        "outputId": "b09bf9ef-3169-4576-fef4-ebf647042d4a"
      },
      "source": [
        "ppn2 = Perceptron(eta0=0.1, random_state=0)\n",
        "bc = BaggingClassifier(base_estimator=ppn2, n_estimators=300, n_jobs=-1) \n",
        "bc.fit(X_train_std, y_train)\n",
        "y_pred = bc.predict(X_test_std)\n",
        "accuracy = accuracy_score(y_test, y_pred) \n",
        "print('Accuracy of Bagging Classifier: {:.3f}'.format(accuracy)) "
      ],
      "execution_count": null,
      "outputs": [
        {
          "output_type": "stream",
          "name": "stdout",
          "text": [
            "Accuracy of Bagging Classifier: 0.981\n"
          ]
        }
      ]
    },
    {
      "cell_type": "markdown",
      "metadata": {
        "id": "65_84_j2r3l4"
      },
      "source": [
        "Bagging dengan base classifier\n",
        "\n",
        "Breast Cancer"
      ]
    },
    {
      "cell_type": "code",
      "metadata": {
        "id": "2oms1wYlr3l7"
      },
      "source": [
        "iris = datasets.load_breast_cancer()\n",
        "X = iris.data\n",
        "y = iris.target"
      ],
      "execution_count": null,
      "outputs": []
    },
    {
      "cell_type": "markdown",
      "metadata": {
        "id": "Cwe3WjF5r3l9"
      },
      "source": [
        "Estmators = 100"
      ]
    },
    {
      "cell_type": "code",
      "metadata": {
        "id": "QUvSBIwYr3l-"
      },
      "source": [
        "X_train, X_test, y_train, y_test = train_test_split(X, y, test_size=0.3)"
      ],
      "execution_count": null,
      "outputs": []
    },
    {
      "cell_type": "code",
      "metadata": {
        "id": "nnobyS5kr3l_"
      },
      "source": [
        "sc = StandardScaler()\n",
        "sc.fit(X_train)\n",
        "X_train_std = sc.transform(X_train)\n",
        "X_test_std = sc.transform(X_test)"
      ],
      "execution_count": null,
      "outputs": []
    },
    {
      "cell_type": "code",
      "metadata": {
        "colab": {
          "base_uri": "https://localhost:8080/"
        },
        "id": "P1tKw_-Er3l_",
        "outputId": "743d5ccc-fbac-4327-df31-e44de53195ba"
      },
      "source": [
        "ppn2 = Perceptron(eta0=0.1, random_state=0)\n",
        "bc = BaggingClassifier(base_estimator=ppn2, n_estimators=100, n_jobs=-1) \n",
        "bc.fit(X_train_std, y_train)\n",
        "y_pred = bc.predict(X_test_std)\n",
        "accuracy = accuracy_score(y_test, y_pred) \n",
        "print('Accuracy of Bagging Classifier: {:.3f}'.format(accuracy)) "
      ],
      "execution_count": null,
      "outputs": [
        {
          "output_type": "stream",
          "name": "stdout",
          "text": [
            "Accuracy of Bagging Classifier: 0.971\n"
          ]
        }
      ]
    },
    {
      "cell_type": "markdown",
      "metadata": {
        "id": "7PfYZmW0r3mB"
      },
      "source": [
        "Estmators = 200"
      ]
    },
    {
      "cell_type": "code",
      "metadata": {
        "id": "bqZ4wtxPr3mB"
      },
      "source": [
        "X_train, X_test, y_train, y_test = train_test_split(X, y, test_size=0.3)"
      ],
      "execution_count": null,
      "outputs": []
    },
    {
      "cell_type": "code",
      "metadata": {
        "id": "ZYd79_pEr3mC"
      },
      "source": [
        "sc = StandardScaler()\n",
        "sc.fit(X_train)\n",
        "X_train_std = sc.transform(X_train)\n",
        "X_test_std = sc.transform(X_test)"
      ],
      "execution_count": null,
      "outputs": []
    },
    {
      "cell_type": "code",
      "metadata": {
        "colab": {
          "base_uri": "https://localhost:8080/"
        },
        "id": "8Kf4hNrWr3mC",
        "outputId": "bbf3e326-bdd0-4765-a6d1-63aaa5aed060"
      },
      "source": [
        "ppn2 = Perceptron(eta0=0.1, random_state=0)\n",
        "bc = BaggingClassifier(base_estimator=ppn2, n_estimators=200, n_jobs=-1) \n",
        "bc.fit(X_train_std, y_train)\n",
        "y_pred = bc.predict(X_test_std)\n",
        "accuracy = accuracy_score(y_test, y_pred) \n",
        "print('Accuracy of Bagging Classifier: {:.3f}'.format(accuracy)) "
      ],
      "execution_count": null,
      "outputs": [
        {
          "output_type": "stream",
          "name": "stdout",
          "text": [
            "Accuracy of Bagging Classifier: 0.982\n"
          ]
        }
      ]
    },
    {
      "cell_type": "markdown",
      "metadata": {
        "id": "xwMbuuXJr3mD"
      },
      "source": [
        "Estmators = 300"
      ]
    },
    {
      "cell_type": "code",
      "metadata": {
        "id": "1X-vxb86r3mE"
      },
      "source": [
        "X_train, X_test, y_train, y_test = train_test_split(X, y, test_size=0.3)"
      ],
      "execution_count": null,
      "outputs": []
    },
    {
      "cell_type": "code",
      "metadata": {
        "id": "oHd0DyNBr3mF"
      },
      "source": [
        "sc = StandardScaler()\n",
        "sc.fit(X_train)\n",
        "X_train_std = sc.transform(X_train)\n",
        "X_test_std = sc.transform(X_test)"
      ],
      "execution_count": null,
      "outputs": []
    },
    {
      "cell_type": "code",
      "metadata": {
        "colab": {
          "base_uri": "https://localhost:8080/"
        },
        "id": "VfsZEschr3mF",
        "outputId": "b1709199-82a7-4359-e14a-8b64d649b7e0"
      },
      "source": [
        "ppn2 = Perceptron(eta0=0.1, random_state=0)\n",
        "bc = BaggingClassifier(base_estimator=ppn2, n_estimators=300, n_jobs=-1) \n",
        "bc.fit(X_train_std, y_train)\n",
        "y_pred = bc.predict(X_test_std)\n",
        "accuracy = accuracy_score(y_test, y_pred) \n",
        "print('Accuracy of Bagging Classifier: {:.3f}'.format(accuracy)) "
      ],
      "execution_count": null,
      "outputs": [
        {
          "output_type": "stream",
          "name": "stdout",
          "text": [
            "Accuracy of Bagging Classifier: 0.971\n"
          ]
        }
      ]
    }
  ]
}